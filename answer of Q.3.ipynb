{
 "cells": [
  {
   "cell_type": "code",
   "execution_count": 1,
   "id": "d5bed823",
   "metadata": {},
   "outputs": [
    {
     "name": "stdout",
     "output_type": "stream",
     "text": [
      "Data has been successfully converted and saved to pokemon_data.xlsx\n"
     ]
    }
   ],
   "source": [
    "import pandas as pd\n",
    "import requests\n",
    "\n",
    "# Download the data from the provided link\n",
    "url = \"https://raw.githubusercontent.com/Biuni/PokemonGO-Pokedex/master/pokedex.json\"\n",
    "response = requests.get(url)\n",
    "data = response.json()\n",
    "\n",
    "# Create empty lists to store the extracted data\n",
    "pokemon_data = []\n",
    "\n",
    "# Extract relevant data from the JSON\n",
    "for pokemon in data[\"pokemon\"]:\n",
    "    pokemon_info = {\n",
    "        \"id\": pokemon[\"id\"],\n",
    "        \"num\": pokemon[\"num\"],\n",
    "        \"name\": pokemon[\"name\"],\n",
    "        \"img\": pokemon[\"img\"],\n",
    "        \"type\": \", \".join(pokemon[\"type\"]),\n",
    "        \"height\": pokemon[\"height\"],\n",
    "        \"weight\": pokemon[\"weight\"],\n",
    "        \"candy\": pokemon.get(\"candy\", \"\"),\n",
    "        \"candy_count\": pokemon.get(\"candy_count\", \"\"),\n",
    "        \"egg\": pokemon.get(\"egg\", \"\"),\n",
    "        \"spawn_chance\": pokemon.get(\"spawn_chance\", \"\"),\n",
    "        \"avg_spawns\": pokemon.get(\"avg_spawns\", \"\"),\n",
    "        \"spawn_time\": pokemon.get(\"spawn_time\", \"\"),\n",
    "        \"weakness\": \", \".join(pokemon.get(\"weaknesses\", []))\n",
    "    }\n",
    "\n",
    "    # Handle next_evolution and prev_evolution\n",
    "    if \"next_evolution\" in pokemon:\n",
    "        pokemon_info[\"next_evolution\"] = \", \".join([evo[\"name\"] for evo in pokemon[\"next_evolution\"]])\n",
    "    else:\n",
    "        pokemon_info[\"next_evolution\"] = \"\"\n",
    "\n",
    "    if \"prev_evolution\" in pokemon:\n",
    "        pokemon_info[\"prev_evolution\"] = \", \".join([evo[\"name\"] for evo in pokemon[\"prev_evolution\"]])\n",
    "    else:\n",
    "        pokemon_info[\"prev_evolution\"] = \"\"\n",
    "\n",
    "    pokemon_data.append(pokemon_info)\n",
    "\n",
    "# Create a DataFrame from the extracted data\n",
    "df = pd.DataFrame(pokemon_data)\n",
    "\n",
    "# Save the DataFrame to an Excel file\n",
    "excel_file = \"pokemon_data.xlsx\"\n",
    "df.to_excel(excel_file, index=False)\n",
    "\n",
    "print(\"Data has been successfully converted and saved to\", excel_file)\n"
   ]
  },
  {
   "cell_type": "code",
   "execution_count": null,
   "id": "ab67d9ec",
   "metadata": {},
   "outputs": [],
   "source": []
  }
 ],
 "metadata": {
  "kernelspec": {
   "display_name": "Python 3 (ipykernel)",
   "language": "python",
   "name": "python3"
  },
  "language_info": {
   "codemirror_mode": {
    "name": "ipython",
    "version": 3
   },
   "file_extension": ".py",
   "mimetype": "text/x-python",
   "name": "python",
   "nbconvert_exporter": "python",
   "pygments_lexer": "ipython3",
   "version": "3.10.9"
  }
 },
 "nbformat": 4,
 "nbformat_minor": 5
}
