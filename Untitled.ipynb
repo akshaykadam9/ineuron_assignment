{
 "cells": [
  {
   "cell_type": "markdown",
   "id": "62d240e3",
   "metadata": {},
   "source": [
    "Question 1: -\n",
    "Write a program that takes a string as input, and counts the frequency of each word in the string, there might\n",
    "be repeated characters in the string. Your task is to find the highest frequency and returns the length of the\n",
    "highest-frequency word."
   ]
  },
  {
   "cell_type": "code",
   "execution_count": 8,
   "id": "cd3e6093",
   "metadata": {},
   "outputs": [],
   "source": [
    "def highest_frequency_word_length(string):\n",
    "    word_list = string.split()\n",
    "    word_count = {}\n",
    "\n",
    "    for word in word_list:\n",
    "        if word in word_count:\n",
    "            word_count[word] += 1\n",
    "        else:\n",
    "            word_count[word] = 1\n",
    "\n",
    "    max_frequency = max(word_count.values())\n",
    "    highest_frequency_words = [word for word, count in word_count.items() if count == max_frequency]\n",
    "    highest_frequency_word_length = len(max(highest_frequency_words))\n",
    "\n",
    "    return highest_frequency_word_length\n",
    "\n"
   ]
  },
  {
   "cell_type": "markdown",
   "id": "dd3721c1",
   "metadata": {},
   "source": [
    "test cases-"
   ]
  },
  {
   "cell_type": "code",
   "execution_count": 2,
   "id": "f09e7031",
   "metadata": {
    "scrolled": true
   },
   "outputs": [
    {
     "name": "stdout",
     "output_type": "stream",
     "text": [
      "6\n"
     ]
    }
   ],
   "source": [
    "string = \"hi i am akshay and akshay is data scientist\"\n",
    "result = highest_frequency_word_length(string)\n",
    "print(result)\n"
   ]
  },
  {
   "cell_type": "code",
   "execution_count": 5,
   "id": "a84a581d",
   "metadata": {},
   "outputs": [
    {
     "name": "stdout",
     "output_type": "stream",
     "text": [
      "4\n"
     ]
    }
   ],
   "source": [
    "string = \"akshay akshay ajay ajay akshay orange akshay ajay ajay ajay\"\n",
    "result = highest_frequency_word_length(string)\n",
    "print(result)\n"
   ]
  },
  {
   "cell_type": "code",
   "execution_count": 9,
   "id": "7857279b",
   "metadata": {},
   "outputs": [
    {
     "name": "stdout",
     "output_type": "stream",
     "text": [
      "8\n"
     ]
    }
   ],
   "source": [
    "string = \"engineer engineer doctor doctor \"\n",
    "result = highest_frequency_word_length(string)\n",
    "print(result)"
   ]
  },
  {
   "cell_type": "code",
   "execution_count": null,
   "id": "ccab0e1a",
   "metadata": {},
   "outputs": [],
   "source": []
  }
 ],
 "metadata": {
  "kernelspec": {
   "display_name": "Python 3 (ipykernel)",
   "language": "python",
   "name": "python3"
  },
  "language_info": {
   "codemirror_mode": {
    "name": "ipython",
    "version": 3
   },
   "file_extension": ".py",
   "mimetype": "text/x-python",
   "name": "python",
   "nbconvert_exporter": "python",
   "pygments_lexer": "ipython3",
   "version": "3.10.9"
  }
 },
 "nbformat": 4,
 "nbformat_minor": 5
}
