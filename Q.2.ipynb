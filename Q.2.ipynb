{
 "cells": [
  {
   "cell_type": "markdown",
   "id": "dad3ec40",
   "metadata": {},
   "source": [
    "Question 2: -\n",
    "Consider a string to be valid if all characters of the string appear the same number of times. It is also valid if\n",
    "he can remove just one character at the index in the string, and the remaining characters will occur the same\n",
    "number of times. Given a string, determine if it is valid. If so, return YES , otherwise return NO ."
   ]
  },
  {
   "cell_type": "code",
   "execution_count": 16,
   "id": "be4d6d87",
   "metadata": {},
   "outputs": [],
   "source": [
    "def abc(a):\n",
    "    if type(a)==str:\n",
    "        c={}\n",
    "        for i in a:\n",
    "            if i in c:\n",
    "                c[i] +=1\n",
    "            else:\n",
    "                c[i]=1\n",
    "        d=set(c.values())\n",
    "        if len(d)==1:\n",
    "            print('yes')\n",
    "        else:\n",
    "            print('no')\n",
    "    else:\n",
    "        print('this is not string')"
   ]
  },
  {
   "cell_type": "markdown",
   "id": "412c1aeb",
   "metadata": {},
   "source": [
    "test cases"
   ]
  },
  {
   "cell_type": "code",
   "execution_count": 15,
   "id": "107c114e",
   "metadata": {},
   "outputs": [
    {
     "name": "stdout",
     "output_type": "stream",
     "text": [
      "yes\n"
     ]
    }
   ],
   "source": [
    "abc('aabbcckk')"
   ]
  },
  {
   "cell_type": "code",
   "execution_count": 17,
   "id": "dd4cbecc",
   "metadata": {},
   "outputs": [
    {
     "name": "stdout",
     "output_type": "stream",
     "text": [
      "no\n"
     ]
    }
   ],
   "source": [
    "abc('aabbk')"
   ]
  },
  {
   "cell_type": "code",
   "execution_count": 18,
   "id": "3ee6e7db",
   "metadata": {},
   "outputs": [
    {
     "name": "stdout",
     "output_type": "stream",
     "text": [
      "yes\n"
     ]
    }
   ],
   "source": [
    "abc('llmm')"
   ]
  },
  {
   "cell_type": "code",
   "execution_count": 19,
   "id": "9350e477",
   "metadata": {},
   "outputs": [
    {
     "name": "stdout",
     "output_type": "stream",
     "text": [
      "yes\n"
     ]
    }
   ],
   "source": [
    "abc('lm')"
   ]
  },
  {
   "cell_type": "code",
   "execution_count": 20,
   "id": "a1f8d119",
   "metadata": {},
   "outputs": [
    {
     "name": "stdout",
     "output_type": "stream",
     "text": [
      "no\n"
     ]
    }
   ],
   "source": [
    "abc('lllm')"
   ]
  },
  {
   "cell_type": "code",
   "execution_count": null,
   "id": "37e5cc09",
   "metadata": {},
   "outputs": [],
   "source": []
  }
 ],
 "metadata": {
  "kernelspec": {
   "display_name": "Python 3 (ipykernel)",
   "language": "python",
   "name": "python3"
  },
  "language_info": {
   "codemirror_mode": {
    "name": "ipython",
    "version": 3
   },
   "file_extension": ".py",
   "mimetype": "text/x-python",
   "name": "python",
   "nbconvert_exporter": "python",
   "pygments_lexer": "ipython3",
   "version": "3.10.9"
  }
 },
 "nbformat": 4,
 "nbformat_minor": 5
}
