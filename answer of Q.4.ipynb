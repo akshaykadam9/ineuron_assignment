{
 "cells": [
  {
   "cell_type": "code",
   "execution_count": 5,
   "id": "cbf7d916",
   "metadata": {},
   "outputs": [
    {
     "name": "stdout",
     "output_type": "stream",
     "text": [
      "Data has been successfully converted and saved to meteoritee_data.csv\n"
     ]
    }
   ],
   "source": [
    "import pandas as pd\n",
    "import requests\n",
    "\n",
    "# Download the data from the provided link\n",
    "url = \"https://data.nasa.gov/resource/y77d-th95.json\"\n",
    "response = requests.get(url)\n",
    "data = response.json()\n",
    "\n",
    "# Create an empty list to store the extracted data\n",
    "meteorite_data = []\n",
    "\n",
    "# Extract relevant data from the JSON\n",
    "for meteorite in data:\n",
    "    meteorite_info = {\n",
    "        \"name\": meteorite.get(\"name\", \"\"),\n",
    "        \"id\": meteorite.get(\"id\", \"\"),\n",
    "        \"nametype\": meteorite.get(\"nametype\", \"\"),\n",
    "        \"recclass\": meteorite.get(\"recclass\", \"\"),\n",
    "        \"mass\": float(meteorite.get(\"mass (g)\", 0)),  # Use 0 if \"mass (g)\" key is missing\n",
    "        \"year\": pd.to_datetime(meteorite.get(\"year\", \"\"), format=\"%Y\", errors=\"coerce\"),\n",
    "        \"reclat\": float(meteorite.get(\"reclat\", 0)),  # Use 0 if \"reclat\" key is missing\n",
    "        \"reclong\": float(meteorite.get(\"reclong\", 0)),  # Use 0 if \"reclong\" key is missing\n",
    "        \"coordinates\": [int(coord) for coord in meteorite.get(\"geolocation\", {}).get(\"coordinates\", [])]\n",
    "    }\n",
    "    meteorite_data.append(meteorite_info)\n",
    "\n",
    "# Create a DataFrame from the extracted data\n",
    "df = pd.DataFrame(meteorite_data)\n",
    "\n",
    "# Save the DataFrame to a CSV file\n",
    "csv_file = \"meteoritee_data.csv\"\n",
    "df.to_csv(csv_file, index=False)\n",
    "\n",
    "print(\"Data has been successfully converted and saved to\", csv_file)\n"
   ]
  },
  {
   "cell_type": "code",
   "execution_count": null,
   "id": "3e874625",
   "metadata": {},
   "outputs": [],
   "source": []
  }
 ],
 "metadata": {
  "kernelspec": {
   "display_name": "Python 3 (ipykernel)",
   "language": "python",
   "name": "python3"
  },
  "language_info": {
   "codemirror_mode": {
    "name": "ipython",
    "version": 3
   },
   "file_extension": ".py",
   "mimetype": "text/x-python",
   "name": "python",
   "nbconvert_exporter": "python",
   "pygments_lexer": "ipython3",
   "version": "3.10.9"
  }
 },
 "nbformat": 4,
 "nbformat_minor": 5
}
