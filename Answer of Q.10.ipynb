{
 "cells": [
  {
   "cell_type": "code",
   "execution_count": 7,
   "id": "8c423937",
   "metadata": {},
   "outputs": [],
   "source": [
    "import nltk\n",
    "from nltk import word_tokenize, pos_tag\n"
   ]
  },
  {
   "cell_type": "code",
   "execution_count": 3,
   "id": "558cf47a",
   "metadata": {},
   "outputs": [
    {
     "name": "stderr",
     "output_type": "stream",
     "text": [
      "[nltk_data] Downloading package averaged_perceptron_tagger to\n",
      "[nltk_data]     C:\\Users\\hp\\AppData\\Roaming\\nltk_data...\n",
      "[nltk_data]   Unzipping taggers\\averaged_perceptron_tagger.zip.\n"
     ]
    },
    {
     "data": {
      "text/plain": [
       "True"
      ]
     },
     "execution_count": 3,
     "metadata": {},
     "output_type": "execute_result"
    }
   ],
   "source": [
    "nltk.download('averaged_perceptron_tagger')\n"
   ]
  },
  {
   "cell_type": "code",
   "execution_count": 8,
   "id": "d3fe1fd8",
   "metadata": {},
   "outputs": [],
   "source": [
    "def count_pos(text):\n",
    "    # Tokenize the text into individual words\n",
    "    tokens = word_tokenize(text)\n",
    "    \n",
    "    # Perform part-of-speech tagging on the tokens\n",
    "    tagged_tokens = pos_tag(tokens)\n",
    "    \n",
    "    # Initialize counts for verbs, nouns, pronouns, and adjectives\n",
    "    verb_count = 0\n",
    "    noun_count = 0\n",
    "    pronoun_count = 0\n",
    "    adjective_count = 0\n",
    "    \n",
    "    # Iterate through the tagged tokens and count the different parts of speech\n",
    "    for word, tag in tagged_tokens:\n",
    "        if tag.startswith('VB'):  # Verbs\n",
    "            verb_count += 1\n",
    "        elif tag.startswith('NN'):  # Nouns\n",
    "            noun_count += 1\n",
    "        elif tag.startswith('PRP'):  # Pronouns\n",
    "            pronoun_count += 1\n",
    "        elif tag.startswith('JJ'):  # Adjectives\n",
    "            adjective_count += 1\n",
    "    \n",
    "    # Create a dictionary to store the counts\n",
    "    counts = {\n",
    "        'verbs': verb_count,\n",
    "        'nouns': noun_count,\n",
    "        'pronouns': pronoun_count,\n",
    "        'adjectives': adjective_count\n",
    "    }\n",
    "    \n",
    "    return counts"
   ]
  },
  {
   "cell_type": "code",
   "execution_count": 9,
   "id": "dfa7f460",
   "metadata": {},
   "outputs": [
    {
     "name": "stdout",
     "output_type": "stream",
     "text": [
      "{'verbs': 1, 'nouns': 3, 'pronouns': 0, 'adjectives': 2}\n"
     ]
    }
   ],
   "source": [
    "# Test the function with a sample phrase\n",
    "phrase = \"The quick brown fox jumps over the lazy dog\"\n",
    "result = count_pos(phrase)\n",
    "print(result)"
   ]
  },
  {
   "cell_type": "code",
   "execution_count": 5,
   "id": "abcc8323",
   "metadata": {},
   "outputs": [
    {
     "name": "stdout",
     "output_type": "stream",
     "text": [
      "{'verbs': 6, 'nouns': 5, 'pronouns': 2, 'adjectives': 1}\n"
     ]
    }
   ],
   "source": [
    "# Additional Test Case 1\n",
    "# Explanation: In this test case, we have a paragraph that contains various parts of speech.\n",
    "# The paragraph includes verbs, nouns, pronouns, and adjectives.\n",
    "# The program should count the occurrences of each part of speech correctly.\n",
    "paragraph = \"She was walking quickly towards the park. The beautiful flowers were blooming in the garden. He saw a squirrel running on the tree.\"\n",
    "result = count_pos(paragraph)\n",
    "print(result)\n"
   ]
  },
  {
   "cell_type": "code",
   "execution_count": 6,
   "id": "7d258a02",
   "metadata": {},
   "outputs": [
    {
     "name": "stdout",
     "output_type": "stream",
     "text": [
      "{'verbs': 2, 'nouns': 1, 'pronouns': 0, 'adjectives': 0}\n"
     ]
    }
   ],
   "source": [
    "# Additional Test Case 2\n",
    "# Explanation: This test case includes a phrase with only one part of speech, which is a noun.\n",
    "# The program should count the noun correctly and return counts for other parts of speech as 0.\n",
    "phrase = \"The cat is sleeping.\"\n",
    "result = count_pos(phrase)\n",
    "print(result)"
   ]
  },
  {
   "cell_type": "code",
   "execution_count": null,
   "id": "92b69487",
   "metadata": {},
   "outputs": [],
   "source": []
  }
 ],
 "metadata": {
  "kernelspec": {
   "display_name": "Python 3 (ipykernel)",
   "language": "python",
   "name": "python3"
  },
  "language_info": {
   "codemirror_mode": {
    "name": "ipython",
    "version": 3
   },
   "file_extension": ".py",
   "mimetype": "text/x-python",
   "name": "python",
   "nbconvert_exporter": "python",
   "pygments_lexer": "ipython3",
   "version": "3.10.9"
  }
 },
 "nbformat": 4,
 "nbformat_minor": 5
}
